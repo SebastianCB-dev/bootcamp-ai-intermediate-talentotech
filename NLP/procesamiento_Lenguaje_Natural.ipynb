{
  "cells": [
    {
      "cell_type": "code",
      "execution_count": 1,
      "metadata": {},
      "outputs": [
        {
          "name": "stdout",
          "output_type": "stream",
          "text": [
            "Collecting nltk==3.8.1 (from -r requirements.txt (line 1))\n",
            "  Using cached nltk-3.8.1-py3-none-any.whl.metadata (2.8 kB)\n",
            "Collecting click (from nltk==3.8.1->-r requirements.txt (line 1))\n",
            "  Using cached click-8.1.7-py3-none-any.whl.metadata (3.0 kB)\n",
            "Requirement already satisfied: joblib in /Users/sebastiancb/anaconda3/envs/env-talentotech-bootcamp/lib/python3.12/site-packages (from nltk==3.8.1->-r requirements.txt (line 1)) (1.4.2)\n",
            "Collecting regex>=2021.8.3 (from nltk==3.8.1->-r requirements.txt (line 1))\n",
            "  Downloading regex-2024.7.24-cp312-cp312-macosx_11_0_arm64.whl.metadata (40 kB)\n",
            "\u001b[2K     \u001b[38;2;114;156;31m━━━━━━━━━━━━━━━━━━━━━━━━━━━━━━━━━━━━━━━━\u001b[0m \u001b[32m40.5/40.5 kB\u001b[0m \u001b[31m2.1 MB/s\u001b[0m eta \u001b[36m0:00:00\u001b[0m\n",
            "\u001b[?25hCollecting tqdm (from nltk==3.8.1->-r requirements.txt (line 1))\n",
            "  Downloading tqdm-4.66.5-py3-none-any.whl.metadata (57 kB)\n",
            "\u001b[2K     \u001b[38;2;114;156;31m━━━━━━━━━━━━━━━━━━━━━━━━━━━━━━━━━━━━━━━━\u001b[0m \u001b[32m57.6/57.6 kB\u001b[0m \u001b[31m5.3 MB/s\u001b[0m eta \u001b[36m0:00:00\u001b[0m\n",
            "\u001b[?25hUsing cached nltk-3.8.1-py3-none-any.whl (1.5 MB)\n",
            "Downloading regex-2024.7.24-cp312-cp312-macosx_11_0_arm64.whl (279 kB)\n",
            "\u001b[2K   \u001b[38;2;114;156;31m━━━━━━━━━━━━━━━━━━━━━━━━━━━━━━━━━━━━━━━━\u001b[0m \u001b[32m279.1/279.1 kB\u001b[0m \u001b[31m17.0 MB/s\u001b[0m eta \u001b[36m0:00:00\u001b[0m\n",
            "\u001b[?25hUsing cached click-8.1.7-py3-none-any.whl (97 kB)\n",
            "Downloading tqdm-4.66.5-py3-none-any.whl (78 kB)\n",
            "\u001b[2K   \u001b[38;2;114;156;31m━━━━━━━━━━━━━━━━━━━━━━━━━━━━━━━━━━━━━━━━\u001b[0m \u001b[32m78.4/78.4 kB\u001b[0m \u001b[31m6.8 MB/s\u001b[0m eta \u001b[36m0:00:00\u001b[0m\n",
            "\u001b[?25hInstalling collected packages: tqdm, regex, click, nltk\n",
            "Successfully installed click-8.1.7 nltk-3.8.1 regex-2024.7.24 tqdm-4.66.5\n",
            "Note: you may need to restart the kernel to use updated packages.\n"
          ]
        }
      ],
      "source": [
        "# Instalación de librerías\n",
        "%pip install -r requirements.txt"
      ]
    },
    {
      "cell_type": "code",
      "execution_count": 2,
      "metadata": {},
      "outputs": [
        {
          "name": "stderr",
          "output_type": "stream",
          "text": [
            "[nltk_data] Downloading package wordnet to\n",
            "[nltk_data]     /Users/sebastiancb/nltk_data...\n",
            "[nltk_data] Downloading package punkt to\n",
            "[nltk_data]     /Users/sebastiancb/nltk_data...\n",
            "[nltk_data]   Unzipping tokenizers/punkt.zip.\n"
          ]
        },
        {
          "data": {
            "text/plain": [
              "True"
            ]
          },
          "execution_count": 2,
          "metadata": {},
          "output_type": "execute_result"
        }
      ],
      "source": [
        "# Importación de librerías\n",
        "from nltk.tokenize import TreebankWordTokenizer\n",
        "from nltk.tokenize import WordPunctTokenizer\n",
        "from nltk.stem import WordNetLemmatizer\n",
        "from nltk.stem import PorterStemmer\n",
        "from nltk.stem import SnowballStemmer\n",
        "from nltk.tokenize import sent_tokenize\n",
        "import nltk\n",
        "nltk.download(\"wordnet\")\n",
        "#autor CESUMA-Ceupe\n",
        "#modelo de segmentación punkt\n",
        "nltk.download(\"punkt\")\n",
        "#nltk.download(\"omw-1.4\")"
      ]
    },
    {
      "cell_type": "code",
      "execution_count": 3,
      "metadata": {
        "colab": {
          "base_uri": "https://localhost:8080/"
        },
        "id": "zIxaxg4KNgpF",
        "outputId": "5b76d8c5-84fb-4c2f-c3f0-03a97fc10117"
      },
      "outputs": [
        {
          "name": "stdout",
          "output_type": "stream",
          "text": [
            "['hoy', 'estoy', 'dictando', 'clase', 'por', 'medio', 'de', 'la', 'red', 'desde', 'las', '6:10', 'am']\n"
          ]
        }
      ],
      "source": [
        "oraciones=\"hoy estoy dictando clase por medio de la red desde las 6:10 am\"\n",
        "tokenizador=TreebankWordTokenizer()\n",
        "tokens=tokenizador.tokenize(oraciones)\n",
        "print(tokens)"
      ]
    },
    {
      "cell_type": "markdown",
      "metadata": {
        "id": "s-83JKkJPfFg"
      },
      "source": [
        "observemos los errores que se calculan"
      ]
    },
    {
      "cell_type": "code",
      "execution_count": 4,
      "metadata": {
        "colab": {
          "base_uri": "https://localhost:8080/"
        },
        "id": "jlV8V8zwO_cp",
        "outputId": "9eb1148a-e39d-442d-a920-7e44812a665b"
      },
      "outputs": [
        {
          "name": "stdout",
          "output_type": "stream",
          "text": [
            "['¿cómo', 'estás', '?', '..', '!', 'qué', 'bueno', 'me', 'alegra', 'mucho¡']\n"
          ]
        }
      ],
      "source": [
        "oraciones=\"¿cómo estás?..!qué bueno me alegra mucho¡\"\n",
        "tokenizador=TreebankWordTokenizer()\n",
        "tokens=tokenizador.tokenize(oraciones)\n",
        "print(tokens)\n"
      ]
    },
    {
      "cell_type": "code",
      "execution_count": 5,
      "metadata": {
        "colab": {
          "base_uri": "https://localhost:8080/"
        },
        "id": "ndYI1ze_Pjmb",
        "outputId": "b05aa2a2-18d9-463d-9a5e-578e1d2cce4a"
      },
      "outputs": [
        {
          "name": "stdout",
          "output_type": "stream",
          "text": [
            "['¿', 'cómo', 'estás', '?..!', 'qué', 'bueno', 'me', 'alegra', 'mucho', '¡']\n"
          ]
        }
      ],
      "source": [
        "oraciones=\"¿cómo estás?..!qué bueno me alegra mucho¡\"\n",
        "tokenizador=WordPunctTokenizer()\n",
        "tokens=tokenizador.tokenize(oraciones)\n",
        "print(tokens)\n"
      ]
    },
    {
      "cell_type": "markdown",
      "metadata": {
        "id": "ntX5Lk1DRHiH"
      },
      "source": [
        "![image.png](data:image/png;base64,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)**byte-pair encoding (BPE),"
      ]
    },
    {
      "cell_type": "markdown",
      "metadata": {
        "id": "VQN8Hq05ZzJJ"
      },
      "source": [
        "Algoritmo de Porter: Es uno de los algoritmos de stemming más utilizados y fue desarrollado por Martin Porter en 1980. Este algoritmo aplica una serie de reglas para cortar los sufijos y obtener la raíz de la palabra.![image.png](data:image/png;base64,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)"
      ]
    },
    {
      "cell_type": "code",
      "execution_count": 6,
      "metadata": {
        "colab": {
          "base_uri": "https://localhost:8080/"
        },
        "id": "Lo3qa6LwRG7e",
        "outputId": "07dca92f-3b46-48c7-8334-19f4543aab00"
      },
      "outputs": [
        {
          "name": "stdout",
          "output_type": "stream",
          "text": [
            "corriendo\n",
            "corr\n",
            "corrí\n",
            "corrieron\n",
            "corr\n",
            "corremo\n"
          ]
        }
      ],
      "source": [
        "ps = PorterStemmer()\n",
        "palabras = [\"corriendo\", \"corre\", \"corrí\",\"corrieron\",\"corres\",\"corremos\"]\n",
        "for palabra in palabras:\n",
        "    print(ps.stem(palabra))"
      ]
    },
    {
      "cell_type": "markdown",
      "metadata": {
        "id": "iMSvUneMZ97o"
      },
      "source": [
        "Algoritmo de Snowball: Es una versión mejorada del algoritmo de Porter y soporta múltiples idiomas."
      ]
    },
    {
      "cell_type": "code",
      "execution_count": 7,
      "metadata": {
        "colab": {
          "base_uri": "https://localhost:8080/"
        },
        "id": "4hRzqbfpZNvg",
        "outputId": "a4ff26f0-2dcb-4a9d-9bf3-2b82385cb9b4"
      },
      "outputs": [
        {
          "name": "stdout",
          "output_type": "stream",
          "text": [
            "corr\n",
            "corr\n",
            "corr\n",
            "corr\n",
            "corr\n",
            "corr\n"
          ]
        }
      ],
      "source": [
        "#Algoritmo de Snowball\n",
        "ss = SnowballStemmer(\"spanish\")\n",
        "palabras = [\"corriendo\", \"corre\", \"corrí\",\"corrieron\",\"corres\",\"corremos\"]\n",
        "for palabra in palabras:\n",
        "    print(ss.stem(palabra))"
      ]
    },
    {
      "cell_type": "code",
      "execution_count": 8,
      "metadata": {
        "colab": {
          "base_uri": "https://localhost:8080/"
        },
        "id": "a8TRtLqBbdao",
        "outputId": "95433367-2c48-4c5b-a4ab-dc29088029f4"
      },
      "outputs": [
        {
          "name": "stdout",
          "output_type": "stream",
          "text": [
            "rock\n",
            "be\n",
            "good\n"
          ]
        }
      ],
      "source": [
        "lematizador = WordNetLemmatizer()\n",
        "#se va a trabajar con un nombre n\n",
        "primero=lematizador.lemmatize(\"rocks\", pos=\"n\")\n",
        "#se va a trabajar con un verbo v\n",
        "segundo=lematizador.lemmatize(\"were\", pos=\"v\")\n",
        "#se va a trabajar con un adjetivo\n",
        "tercero=lematizador.lemmatize(\"better\", pos=\"a\")\n",
        "print(primero)\n",
        "print(segundo)\n",
        "print(tercero)"
      ]
    },
    {
      "cell_type": "markdown",
      "metadata": {
        "id": "cptB8JvSejn5"
      },
      "source": [
        "# ***Segmentación de Frases y Oraciones**"
      ]
    },
    {
      "cell_type": "code",
      "execution_count": 9,
      "metadata": {
        "colab": {
          "base_uri": "https://localhost:8080/"
        },
        "id": "XxLKOrfJenTd",
        "outputId": "7fafe8f1-439f-434c-8b96-7a36cf19d13b"
      },
      "outputs": [
        {
          "name": "stdout",
          "output_type": "stream",
          "text": [
            "Jamás pensé que esto podría pasar.\n",
            "¿Quién soy yo para entrar en la junta directiva?\n",
            "Hay muchísimos canditos mejores que yo!\n",
            "Le comenté  a Carlos la sensación de vacío que me generaba esta situación y su respuesta fué: \"no lo dudes te lo mereces\"\n"
          ]
        }
      ],
      "source": [
        "texto=\"Jamás pensé que esto podría pasar. ¿Quién soy yo para entrar en la junta directiva? Hay muchísimos canditos mejores que yo! Le comenté \\\n",
        " a Carlos la sensación de vacío que me generaba esta situación y su respuesta fué: \\\"no lo dudes te lo mereces\\\"\"\n",
        "for sentence in sent_tokenize(texto):\n",
        "    print(sentence)\n"
      ]
    }
  ],
  "metadata": {
    "colab": {
      "provenance": []
    },
    "kernelspec": {
      "display_name": "Python 3",
      "name": "python3"
    },
    "language_info": {
      "codemirror_mode": {
        "name": "ipython",
        "version": 3
      },
      "file_extension": ".py",
      "mimetype": "text/x-python",
      "name": "python",
      "nbconvert_exporter": "python",
      "pygments_lexer": "ipython3",
      "version": "3.12.4"
    }
  },
  "nbformat": 4,
  "nbformat_minor": 0
}
