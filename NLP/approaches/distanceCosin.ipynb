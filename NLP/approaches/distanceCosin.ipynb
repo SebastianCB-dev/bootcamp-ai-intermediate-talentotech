{
  "cells": [
    {
      "cell_type": "markdown",
      "metadata": {},
      "source": [
        "# Distancia de Coseno\n",
        "\n",
        "La distancia de coseno es una medida de similitud entre dos vectores en un espacio que tiene un producto interno. La distancia de coseno entre dos vectores es el coseno del ángulo entre ellos. Es una medida de similitud entre dos vectores en un espacio que tiene un producto interno. La distancia de coseno se utiliza para determinar la similitud entre dos documentos. Los documentos se representan como vectores en un espacio n-dimensional y la similitud entre los documentos se calcula basándose en el ángulo entre los vectores.\n",
        "\n",
        "<img src=\"https://pbs.twimg.com/media/GDTlkNqWsAA65BZ.jpg\" width=\"400\" style=\"display: block; margin: 0 auto;\">"
      ]
    },
    {
      "cell_type": "code",
      "execution_count": 14,
      "metadata": {},
      "outputs": [
        {
          "name": "stdout",
          "output_type": "stream",
          "text": [
            "Requirement already satisfied: nltk==3.8.1 in /Users/sebastiancb/anaconda3/envs/env-talentotech-bootcamp/lib/python3.12/site-packages (from -r ../requirements.txt (line 1)) (3.8.1)\n",
            "Requirement already satisfied: numpy==2.0.0 in /Users/sebastiancb/anaconda3/envs/env-talentotech-bootcamp/lib/python3.12/site-packages (from -r ../requirements.txt (line 2)) (2.0.0)\n",
            "Requirement already satisfied: click in /Users/sebastiancb/anaconda3/envs/env-talentotech-bootcamp/lib/python3.12/site-packages (from nltk==3.8.1->-r ../requirements.txt (line 1)) (8.1.7)\n",
            "Requirement already satisfied: joblib in /Users/sebastiancb/anaconda3/envs/env-talentotech-bootcamp/lib/python3.12/site-packages (from nltk==3.8.1->-r ../requirements.txt (line 1)) (1.4.2)\n",
            "Requirement already satisfied: regex>=2021.8.3 in /Users/sebastiancb/anaconda3/envs/env-talentotech-bootcamp/lib/python3.12/site-packages (from nltk==3.8.1->-r ../requirements.txt (line 1)) (2024.7.24)\n",
            "Requirement already satisfied: tqdm in /Users/sebastiancb/anaconda3/envs/env-talentotech-bootcamp/lib/python3.12/site-packages (from nltk==3.8.1->-r ../requirements.txt (line 1)) (4.66.5)\n",
            "Note: you may need to restart the kernel to use updated packages.\n"
          ]
        }
      ],
      "source": [
        "# Instalación de librerías\n",
        "%pip install -r '../requirements.txt'"
      ]
    },
    {
      "cell_type": "code",
      "execution_count": 15,
      "metadata": {},
      "outputs": [],
      "source": [
        "# Importación de librerías\n",
        "import numpy as np"
      ]
    },
    {
      "cell_type": "code",
      "execution_count": 16,
      "metadata": {
        "id": "AbOIb8rwat1H"
      },
      "outputs": [],
      "source": [
        "#cómo se calcula el dot product\n",
        "v = np.array([1, 2, 3, 4, 5])\n",
        "w = np.array([6, 7, 3, 1, 8])"
      ]
    },
    {
      "cell_type": "code",
      "execution_count": 17,
      "metadata": {
        "colab": {
          "base_uri": "https://localhost:8080/"
        },
        "id": "LvIif-rga09n",
        "outputId": "5cbdc67b-755c-4cb3-8d1b-7633e1cd4b23"
      },
      "outputs": [
        {
          "data": {
            "text/plain": [
              "np.int64(73)"
            ]
          },
          "execution_count": 17,
          "metadata": {},
          "output_type": "execute_result"
        }
      ],
      "source": [
        "cos_distance = np.dot(v, w)\n",
        "cos_distance"
      ]
    },
    {
      "cell_type": "code",
      "execution_count": 18,
      "metadata": {
        "colab": {
          "base_uri": "https://localhost:8080/"
        },
        "id": "gxcOxI_pbC-u",
        "outputId": "99f46dcf-3729-448a-f68b-7d4a87bd429a"
      },
      "outputs": [
        {
          "data": {
            "text/plain": [
              "np.int64(5)"
            ]
          },
          "execution_count": 18,
          "metadata": {},
          "output_type": "execute_result"
        }
      ],
      "source": [
        "v = np.array([1, 1, 1, 1, 1])\n",
        "w = np.array([1, 1, 1, 1, 1])\n",
        "cos_distance = np.dot(v, w)\n",
        "cos_distance"
      ]
    },
    {
      "cell_type": "markdown",
      "metadata": {
        "id": "qhysRElpcmge"
      },
      "source": [
        "![image.png](data:image/png;base64,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)"
      ]
    },
    {
      "cell_type": "code",
      "execution_count": 19,
      "metadata": {
        "colab": {
          "base_uri": "https://localhost:8080/"
        },
        "id": "0K_7dpWociE-",
        "outputId": "e8f11019-10a5-4352-e36c-7dc106d5fdf3"
      },
      "outputs": [
        {
          "name": "stdout",
          "output_type": "stream",
          "text": [
            "Cosine similarity before normalisation is 0.7806258942254461\n"
          ]
        }
      ],
      "source": [
        "v = np.array([1, 2, 3, 4, 5])\n",
        "w = np.array([6, 7, 3, 1, 8])\n",
        "\n",
        "cos_before_norm = np.dot(v, w) / (np.linalg.norm(v) * np.linalg.norm(w))\n",
        "print(f'Cosine similarity before normalisation is {cos_before_norm}')\n"
      ]
    },
    {
      "cell_type": "code",
      "execution_count": 20,
      "metadata": {
        "id": "xfPtby2Dettx"
      },
      "outputs": [],
      "source": [
        "#cereza con información\n",
        "#vector de la palabra cereza\n",
        "v = np.array([442, 8, 2])\n",
        "#vector de la palabra información\n",
        "w = np.array([5, 3982, 3325])"
      ]
    },
    {
      "cell_type": "code",
      "execution_count": 21,
      "metadata": {
        "colab": {
          "base_uri": "https://localhost:8080/"
        },
        "id": "Zam3dAzJfFGU",
        "outputId": "1e8e94e2-ba1a-45a0-9ab6-01bef5997b65"
      },
      "outputs": [
        {
          "data": {
            "text/plain": [
              "np.int64(40716)"
            ]
          },
          "execution_count": 21,
          "metadata": {},
          "output_type": "execute_result"
        }
      ],
      "source": [
        "#dot product de cereza e información\n",
        "cos_distance = np.dot(v, w)\n",
        "cos_distance"
      ]
    },
    {
      "cell_type": "code",
      "execution_count": 22,
      "metadata": {
        "colab": {
          "base_uri": "https://localhost:8080/"
        },
        "id": "DyyWRUnPfJGt",
        "outputId": "5fd92ff8-f326-410b-9ba5-d556f02eb0dd"
      },
      "outputs": [
        {
          "name": "stdout",
          "output_type": "stream",
          "text": [
            "Cosine similarity before normalisation is 0.01775392946668344\n"
          ]
        }
      ],
      "source": [
        "#distancia del coseno entre cereza e información\n",
        "cos_before_norm = np.dot(v, w) / (np.linalg.norm(v) * np.linalg.norm(w))\n",
        "print(f'Cosine similarity before normalisation is {cos_before_norm}')"
      ]
    },
    {
      "cell_type": "code",
      "execution_count": 23,
      "metadata": {
        "id": "68r8M_cffLs2"
      },
      "outputs": [],
      "source": [
        "#digital con información\n",
        "#palabra digital\n",
        "v = np.array([5, 1683, 1670])\n",
        "#información\n",
        "w = np.array([5, 3982, 3325])"
      ]
    },
    {
      "cell_type": "code",
      "execution_count": 24,
      "metadata": {
        "colab": {
          "base_uri": "https://localhost:8080/"
        },
        "id": "VrXXxIJ_fhje",
        "outputId": "fee07e56-c4aa-48ec-db0c-0930451e2327"
      },
      "outputs": [
        {
          "data": {
            "text/plain": [
              "np.int64(12254481)"
            ]
          },
          "execution_count": 24,
          "metadata": {},
          "output_type": "execute_result"
        }
      ],
      "source": [
        "#Cuando el dotproduct es alto, las palabras son similiares(aparecen en el mismo contexto)\n",
        "cos_distance = np.dot(v, w)\n",
        "cos_distance"
      ]
    },
    {
      "cell_type": "code",
      "execution_count": 25,
      "metadata": {
        "colab": {
          "base_uri": "https://localhost:8080/"
        },
        "id": "5nYTHMCMfmbU",
        "outputId": "3f4069d5-2695-4b41-874e-fbfd224f0cd5"
      },
      "outputs": [
        {
          "name": "stdout",
          "output_type": "stream",
          "text": [
            "Cosine similarity before normalisation is 0.9963211738644715\n"
          ]
        }
      ],
      "source": [
        "#distancia del coseno entre digital e información\n",
        "cos_before_norm = np.dot(v, w) / (np.linalg.norm(v) * np.linalg.norm(w))\n",
        "print(f'Cosine similarity before normalisation is {cos_before_norm}')"
      ]
    }
  ],
  "metadata": {
    "colab": {
      "provenance": []
    },
    "kernelspec": {
      "display_name": "Python 3",
      "name": "python3"
    },
    "language_info": {
      "codemirror_mode": {
        "name": "ipython",
        "version": 3
      },
      "file_extension": ".py",
      "mimetype": "text/x-python",
      "name": "python",
      "nbconvert_exporter": "python",
      "pygments_lexer": "ipython3",
      "version": "3.12.4"
    }
  },
  "nbformat": 4,
  "nbformat_minor": 0
}
