{
  "cells": [
    {
      "cell_type": "code",
      "execution_count": null,
      "metadata": {},
      "outputs": [],
      "source": [
        "# Instalación librerías\n",
        "%pip install -r '../requirements.txt'"
      ]
    },
    {
      "cell_type": "code",
      "execution_count": 4,
      "metadata": {
        "id": "9kLsp_XpeeFN"
      },
      "outputs": [],
      "source": [
        "# Importar bibliotecas\n",
        "from PIL import Image\n",
        "\n",
        "#GUARDAR LA RUTA DE LA IMAGEN A MODIFICAR\n",
        "image = Image.open (r'./gato.jpg')\n",
        "#image = Image.open (r'/content/mujer.jpg')\n",
        "\n",
        "imageFondo = Image.open (r'/content/calle.jpg')\n",
        "\n",
        "# FOR ANIDADO PARA RECORRER CADA PIXEL DE LA IMAGEN\n",
        "\n",
        "width = image.size[0]\n",
        "height = image.size[1]\n",
        "\n",
        "for i in range (0,width): #leer todos los pixeles\n",
        "    for j in range(0,height): #leer todos los pixeles\n",
        "        data = image.getpixel((i,j))\n",
        "        data2 = imageFondo.getpixel((i,j))\n",
        "        #lo que sea diferente de verde, pasélo a la otra imagen\n",
        "        if  ((data[2]+data[0])< data[1]):\n",
        "          image.putpixel((i,j),data2)\n",
        "\n",
        "Image = image.save (\"./dist/nuevaimagen.png\")"
      ]
    }
  ],
  "metadata": {
    "colab": {
      "provenance": []
    },
    "kernelspec": {
      "display_name": "Python 3",
      "name": "python3"
    },
    "language_info": {
      "name": "python"
    }
  },
  "nbformat": 4,
  "nbformat_minor": 0
}
