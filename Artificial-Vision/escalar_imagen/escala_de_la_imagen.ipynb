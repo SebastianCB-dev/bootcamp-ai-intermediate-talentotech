{
  "cells": [
    {
      "cell_type": "code",
      "execution_count": 7,
      "metadata": {
        "colab": {
          "base_uri": "https://localhost:8080/"
        },
        "id": "6Xsc7KSFntdf",
        "outputId": "8cfca327-3db1-47e7-8774-3d5bbfe52417"
      },
      "outputs": [
        {
          "name": "stdout",
          "output_type": "stream",
          "text": [
            "***** 1280 720\n",
            "Imagen escalada guardada en: /content/nuevaImagen.jpg\n"
          ]
        }
      ],
      "source": [
        "from PIL import Image\n",
        "\n",
        "def modificar_escala(imagen, factor):\n",
        "    # Abre la imagen\n",
        "    img = Image.open(imagen)\n",
        "\n",
        "    # Obtiene las dimensiones de la imagen original\n",
        "    ancho, alto = img.size\n",
        "\n",
        "\n",
        "    # Calcula las nuevas dimensiones de la imagen escalada\n",
        "    nuevo_ancho = int(ancho * factor)\n",
        "    nuevo_alto = int(alto * factor)\n",
        "\n",
        "    print(\"*****\",nuevo_ancho, nuevo_alto)\n",
        "    # Escala la imagen\n",
        "    img = img.resize((nuevo_ancho, nuevo_alto))\n",
        "\n",
        "    return img\n",
        "\n",
        "# Ruta de la imagen original\n",
        "ruta_imagen_original = \"./tacker-2041390_640.jpg\"\n",
        "# Factor de escala (por ejemplo, 0.5 para reducir a la mitad, 2 para duplicar)\n",
        "#factor =  0.5\n",
        "factor =  2\n",
        "\n",
        "# Modificar la escala de la imagen\n",
        "imagen_escala = modificar_escala(ruta_imagen_original, factor)\n",
        "\n",
        "# Guardar la imagen escalada en una nueva ruta\n",
        "ruta_imagen_escala = \"./dist/nuevaImagen.jpg\"\n",
        "imagen_escala.save(ruta_imagen_escala)\n",
        "\n",
        "print(\"Imagen escalada guardada en:\", ruta_imagen_escala)\n"
      ]
    }
  ],
  "metadata": {
    "colab": {
      "provenance": []
    },
    "kernelspec": {
      "display_name": "Python 3",
      "name": "python3"
    },
    "language_info": {
      "name": "python"
    }
  },
  "nbformat": 4,
  "nbformat_minor": 0
}
