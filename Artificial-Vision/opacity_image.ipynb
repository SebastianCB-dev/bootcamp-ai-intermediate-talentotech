{
  "cells": [
    {
      "cell_type": "code",
      "execution_count": null,
      "metadata": {},
      "outputs": [],
      "source": [
        "# Instalar librerías\n",
        "%pip install -r requirements.txt"
      ]
    },
    {
      "cell_type": "code",
      "execution_count": 8,
      "metadata": {
        "id": "Yemd4vxqxsp3"
      },
      "outputs": [],
      "source": [
        "# COMO ILUMINAR UNA IMAGEN PIXEL A PIXEL\n",
        "\n",
        "#libreria desde pillow\n",
        "from PIL import Image\n",
        "\n",
        "#llamar a la imagen - copiar ruta\n",
        "image = Image.open(r'./assets/female-4667509_640.jpg')\n",
        "\n",
        "#añadir factor de luz\n",
        "#factorluz = 1.6\n",
        "#factorluz = 0.4\n",
        "#factorluz = 2\n",
        "factorluz = 1.3\n",
        "\n",
        "# recorrer la imagen\n",
        "width = image.size[0]\n",
        "height = image.size[1]\n",
        "for i in range (0,width): #leer todos los pixeles\n",
        "    for j in range(0,height): #leer todos los pixeles\n",
        "        data = image.getpixel((i,j)) #multiplicamos cada rgb con el factor de luz\n",
        "        rojo=int(data[0]*factorluz)\n",
        "        verde=int(data[1]*factorluz)\n",
        "        azul=int(data[2]*factorluz)\n",
        "\n",
        "#remplazamos el pixel en x y (mostrar)\n",
        "        image.putpixel((i, j), (rojo, verde, azul))\n",
        "\n",
        "#luego crear una nueva imagen\n",
        "image = image.save(\"./dist/nuevaimagen.png\")\n"
      ]
    }
  ],
  "metadata": {
    "colab": {
      "provenance": []
    },
    "kernelspec": {
      "display_name": "Python 3",
      "name": "python3"
    },
    "language_info": {
      "name": "python"
    }
  },
  "nbformat": 4,
  "nbformat_minor": 0
}
