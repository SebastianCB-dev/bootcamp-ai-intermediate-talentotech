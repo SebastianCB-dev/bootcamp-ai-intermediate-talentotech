{
  "cells": [
    {
      "cell_type": "code",
      "execution_count": null,
      "metadata": {},
      "outputs": [],
      "source": [
        "# Instalación de librerías\n",
        "%pip install -r '../requirements.txt'"
      ]
    },
    {
      "cell_type": "code",
      "execution_count": 3,
      "metadata": {
        "id": "GOu76BCYYrpo"
      },
      "outputs": [],
      "source": [
        "# Importar bibliotecas\n",
        "from PIL import Image\n",
        "\n",
        "#GUARDAR LA RUTA DE LA IMAGEN A MODIFICAR\n",
        "image = Image.open (r'./tacker-2041390_640.jpg')\n",
        "imageconbordes =  Image.open(r'./tacker-2041390_640.jpg')\n",
        "\n",
        "# FOR ANIDADO PARA RECORRER CADA PIXEL DE LA IMAGEN\n",
        "\n",
        "width = image.size[0]-1\n",
        "height = image.size[1]-1\n",
        "ir=0\n",
        "jr=0\n",
        "\n",
        "for i in range (width, 0,-1):\n",
        "    jr=0 #leer todos los pixeles\n",
        "    for j in range(0,height,1):\n",
        "      aqui = imageconbordes.getpixel((i,j))#leer todos los pixeles\n",
        "      image.putpixel((ir,jr), aqui)\n",
        "      jr=jr+1\n",
        "    ir=ir+1\n",
        "\n",
        "image = image.save (\"./dist/nuevaimagen.png\")"
      ]
    }
  ],
  "metadata": {
    "colab": {
      "provenance": []
    },
    "kernelspec": {
      "display_name": "Python 3",
      "name": "python3"
    },
    "language_info": {
      "name": "python"
    }
  },
  "nbformat": 4,
  "nbformat_minor": 0
}
