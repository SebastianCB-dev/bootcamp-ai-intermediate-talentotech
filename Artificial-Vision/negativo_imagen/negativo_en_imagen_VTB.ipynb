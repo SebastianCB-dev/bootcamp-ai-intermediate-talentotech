{
  "cells": [
    {
      "cell_type": "code",
      "execution_count": 4,
      "metadata": {
        "id": "UcEQdBl6Icmz"
      },
      "outputs": [],
      "source": [
        "#IMPORTAR BIBLIOTECA\n",
        "from PIL import Image\n",
        "\n",
        "#GUARDAR LA RUTA DE LA IMAGEN A MODIFICAR\n",
        "#Image = Image.open (r'/content/tacker-2041390_640.jpg')\n",
        "Image = Image.open (r'./home.jpg')\n",
        "\n",
        "\n",
        "# FOR ANIDADO PARA RECORRER CADA PIXEL DE LA IMAGEN\n",
        "\n",
        "width = Image.size[0]\n",
        "height = Image.size[1]\n",
        "\n",
        "for i in range (0,width): #leer todos los pixeles\n",
        "    for j in range(0,height): #leer todos los pixeles\n",
        "        data = Image.getpixel((i,j)) #multiplicamos cada rgb con el factor de luz\n",
        "        rojo=data [0]\n",
        "        verde=data[1]\n",
        "        azul=data[2]\n",
        "\n",
        "        #remplazamos el pixel en x y (mostrar)\n",
        "        #Image.putpixel((i, j), (225-rojo, 225-verde, 225-azul))\n",
        "        Image.putpixel((i, j), (255-rojo, 255-verde, 255-azul))\n",
        " #el rgb llega hasta 225\n",
        "\n",
        "Image = Image.save (\"./dist/imagennueva.png\")"
      ]
    }
  ],
  "metadata": {
    "colab": {
      "provenance": []
    },
    "kernelspec": {
      "display_name": "Python 3",
      "name": "python3"
    },
    "language_info": {
      "name": "python"
    }
  },
  "nbformat": 4,
  "nbformat_minor": 0
}
