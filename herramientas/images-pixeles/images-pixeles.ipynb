{
 "cells": [
  {
   "cell_type": "markdown",
   "metadata": {},
   "source": [
    "# Procesamiento de imagenes\n",
    "\n",
    "En este notebook se entenderá como funcionan las imágenes digitales y se realizarán algunas operaciones básicas sobre ellas.\n",
    "\n",
    "## Imágenes digitales\n",
    "\n",
    "Una imagen digital es una representación de una imagen bidimensional en un formato binario, es decir, una matriz de píxeles. Cada píxel tiene un valor que representa su color. En una imagen en escala de grises, el valor de cada píxel es un número entero entre 0 y 255, donde 0 representa un color negro y 255 un color blanco."
   ]
  },
  {
   "cell_type": "code",
   "execution_count": 1,
   "metadata": {},
   "outputs": [
    {
     "name": "stdout",
     "output_type": "stream",
     "text": [
      "Collecting pillow==10.4.0 (from -r requirements.txt (line 1))\n",
      "  Downloading pillow-10.4.0-cp312-cp312-macosx_11_0_arm64.whl.metadata (9.2 kB)\n",
      "Downloading pillow-10.4.0-cp312-cp312-macosx_11_0_arm64.whl (3.4 MB)\n",
      "\u001b[2K   \u001b[38;2;114;156;31m━━━━━━━━━━━━━━━━━━━━━━━━━━━━━━━━━━━━━━━━\u001b[0m \u001b[32m3.4/3.4 MB\u001b[0m \u001b[31m23.8 MB/s\u001b[0m eta \u001b[36m0:00:00\u001b[0m MB/s\u001b[0m eta \u001b[36m0:00:01\u001b[0m\n",
      "\u001b[?25hInstalling collected packages: pillow\n",
      "  Attempting uninstall: pillow\n",
      "    Found existing installation: pillow 10.3.0\n",
      "    Uninstalling pillow-10.3.0:\n",
      "      Successfully uninstalled pillow-10.3.0\n",
      "Successfully installed pillow-10.4.0\n",
      "Note: you may need to restart the kernel to use updated packages.\n"
     ]
    }
   ],
   "source": [
    "# Instalación de librerías\n",
    "%pip install -r requirements.txt"
   ]
  },
  {
   "cell_type": "code",
   "execution_count": 5,
   "metadata": {},
   "outputs": [],
   "source": [
    "# Importación de librerías\n",
    "from PIL import Image"
   ]
  },
  {
   "cell_type": "code",
   "execution_count": 6,
   "metadata": {},
   "outputs": [],
   "source": [
    "# Carga de imagen\n",
    "img = Image.open('./assets/ocho.jpg')"
   ]
  },
  {
   "cell_type": "code",
   "execution_count": 7,
   "metadata": {},
   "outputs": [
    {
     "name": "stdout",
     "output_type": "stream",
     "text": [
      "Ancho: 232, Alto: 213\n"
     ]
    }
   ],
   "source": [
    "# Ver dimensiones\n",
    "ancho, alto = img.size\n",
    "print(f'Ancho: {ancho}, Alto: {alto}')"
   ]
  },
  {
   "cell_type": "code",
   "execution_count": 9,
   "metadata": {},
   "outputs": [
    {
     "data": {
      "text/plain": [
       "(0, 0, 0)"
      ]
     },
     "execution_count": 9,
     "metadata": {},
     "output_type": "execute_result"
    }
   ],
   "source": [
    "# Ver un pixel \n",
    "pixel = img.getpixel((0, 0))\n",
    "pixel # -> (0,0,0) RGB, Red Green Blue"
   ]
  },
  {
   "cell_type": "code",
   "execution_count": 10,
   "metadata": {},
   "outputs": [],
   "source": [
    "# Pasar a escala de grises\n",
    "# Lo que se hace es promediar los valores de los pixeles RGB\n",
    "# Luego se asigna el valor promedio a cada uno de los pixeles\n",
    "for i in range(0,ancho):\n",
    "  for k in range(0,alto):\n",
    "    pixel=img.getpixel((i,k))\n",
    "    rojo=pixel[0]\n",
    "    verde=pixel[1]\n",
    "    azul=pixel[2]\n",
    "    gris=int((rojo+verde+azul)/3)\n",
    "    img.putpixel((i,k),(gris,gris,gris))\n",
    "nueva=img.save('./assets/ochoNueva.jpg')"
   ]
  }
 ],
 "metadata": {
  "kernelspec": {
   "display_name": "env-talentotech-bootcamp",
   "language": "python",
   "name": "python3"
  },
  "language_info": {
   "codemirror_mode": {
    "name": "ipython",
    "version": 3
   },
   "file_extension": ".py",
   "mimetype": "text/x-python",
   "name": "python",
   "nbconvert_exporter": "python",
   "pygments_lexer": "ipython3",
   "version": "3.12.4"
  }
 },
 "nbformat": 4,
 "nbformat_minor": 2
}
