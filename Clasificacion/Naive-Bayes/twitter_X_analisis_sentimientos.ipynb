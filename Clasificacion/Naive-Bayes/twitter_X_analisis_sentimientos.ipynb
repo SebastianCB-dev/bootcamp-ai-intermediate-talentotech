{
  "cells": [
    {
      "cell_type": "code",
      "execution_count": 5,
      "metadata": {},
      "outputs": [
        {
          "name": "stdout",
          "output_type": "stream",
          "text": [
            "Requirement already satisfied: pandas==2.2.2 in /Users/sebastiancb/anaconda3/envs/env-talentotech-bootcamp/lib/python3.12/site-packages (from -r requirements.txt (line 1)) (2.2.2)\n",
            "Requirement already satisfied: scikit-learn==1.5.0 in /Users/sebastiancb/anaconda3/envs/env-talentotech-bootcamp/lib/python3.12/site-packages (from -r requirements.txt (line 2)) (1.5.0)\n",
            "Requirement already satisfied: numpy==2.0.0 in /Users/sebastiancb/anaconda3/envs/env-talentotech-bootcamp/lib/python3.12/site-packages (from -r requirements.txt (line 3)) (2.0.0)\n",
            "Requirement already satisfied: python-dateutil>=2.8.2 in /Users/sebastiancb/anaconda3/envs/env-talentotech-bootcamp/lib/python3.12/site-packages (from pandas==2.2.2->-r requirements.txt (line 1)) (2.9.0)\n",
            "Requirement already satisfied: pytz>=2020.1 in /Users/sebastiancb/anaconda3/envs/env-talentotech-bootcamp/lib/python3.12/site-packages (from pandas==2.2.2->-r requirements.txt (line 1)) (2024.1)\n",
            "Requirement already satisfied: tzdata>=2022.7 in /Users/sebastiancb/anaconda3/envs/env-talentotech-bootcamp/lib/python3.12/site-packages (from pandas==2.2.2->-r requirements.txt (line 1)) (2024.1)\n",
            "Requirement already satisfied: scipy>=1.6.0 in /Users/sebastiancb/anaconda3/envs/env-talentotech-bootcamp/lib/python3.12/site-packages (from scikit-learn==1.5.0->-r requirements.txt (line 2)) (1.14.0)\n",
            "Requirement already satisfied: joblib>=1.2.0 in /Users/sebastiancb/anaconda3/envs/env-talentotech-bootcamp/lib/python3.12/site-packages (from scikit-learn==1.5.0->-r requirements.txt (line 2)) (1.4.2)\n",
            "Requirement already satisfied: threadpoolctl>=3.1.0 in /Users/sebastiancb/anaconda3/envs/env-talentotech-bootcamp/lib/python3.12/site-packages (from scikit-learn==1.5.0->-r requirements.txt (line 2)) (3.5.0)\n",
            "Requirement already satisfied: six>=1.5 in /Users/sebastiancb/anaconda3/envs/env-talentotech-bootcamp/lib/python3.12/site-packages (from python-dateutil>=2.8.2->pandas==2.2.2->-r requirements.txt (line 1)) (1.16.0)\n",
            "Note: you may need to restart the kernel to use updated packages.\n"
          ]
        }
      ],
      "source": [
        "# Instalación de librerías\n",
        "%pip install -r requirements.txt"
      ]
    },
    {
      "cell_type": "code",
      "execution_count": 6,
      "metadata": {
        "id": "kSmUqPnatjlD"
      },
      "outputs": [],
      "source": [
        "#Adaptado por  Víctor Viera B.\n",
        "import pandas as pd\n",
        "import numpy as np\n",
        "from sklearn.model_selection import train_test_split\n",
        "#biblioteca de extracción de características del texto\n",
        "from sklearn.feature_extraction.text import CountVectorizer\n",
        "#para medir la precisión del modelo, matriz de confusión\n",
        "from sklearn.metrics import confusion_matrix\n",
        "#divide el conjunto de datos de entrenamiento\n",
        "from sklearn.model_selection import train_test_split\n",
        "#Modelo de Naive Bayes, El clasificador multinomial Naive Bayes es adecuado para la clasificación\n",
        "#con características discretas (por ejemplo, recuento de palabras para la clasificación de texto)\n",
        "from sklearn.naive_bayes import MultinomialNB"
      ]
    },
    {
      "cell_type": "code",
      "execution_count": 7,
      "metadata": {
        "id": "k-jCnID1tlif"
      },
      "outputs": [],
      "source": [
        "datos= pd.read_csv('./assets/Tweets.csv')"
      ]
    },
    {
      "cell_type": "code",
      "execution_count": 8,
      "metadata": {
        "colab": {
          "base_uri": "https://localhost:8080/",
          "height": 562
        },
        "id": "YQC3gqXWt38Y",
        "outputId": "e28df4f8-6810-43ab-a274-ece66bd1bbfe"
      },
      "outputs": [
        {
          "data": {
            "text/html": [
              "<div>\n",
              "<style scoped>\n",
              "    .dataframe tbody tr th:only-of-type {\n",
              "        vertical-align: middle;\n",
              "    }\n",
              "\n",
              "    .dataframe tbody tr th {\n",
              "        vertical-align: top;\n",
              "    }\n",
              "\n",
              "    .dataframe thead th {\n",
              "        text-align: right;\n",
              "    }\n",
              "</style>\n",
              "<table border=\"1\" class=\"dataframe\">\n",
              "  <thead>\n",
              "    <tr style=\"text-align: right;\">\n",
              "      <th></th>\n",
              "      <th>textID</th>\n",
              "      <th>text</th>\n",
              "      <th>selected_text</th>\n",
              "      <th>sentiment</th>\n",
              "    </tr>\n",
              "  </thead>\n",
              "  <tbody>\n",
              "    <tr>\n",
              "      <th>0</th>\n",
              "      <td>cb774db0d1</td>\n",
              "      <td>I`d have responded, if I were going</td>\n",
              "      <td>I`d have responded, if I were going</td>\n",
              "      <td>neutral</td>\n",
              "    </tr>\n",
              "    <tr>\n",
              "      <th>1</th>\n",
              "      <td>549e992a42</td>\n",
              "      <td>Sooo SAD I will miss you here in San Diego!!!</td>\n",
              "      <td>Sooo SAD</td>\n",
              "      <td>negative</td>\n",
              "    </tr>\n",
              "    <tr>\n",
              "      <th>2</th>\n",
              "      <td>088c60f138</td>\n",
              "      <td>my boss is bullying me...</td>\n",
              "      <td>bullying me</td>\n",
              "      <td>negative</td>\n",
              "    </tr>\n",
              "    <tr>\n",
              "      <th>3</th>\n",
              "      <td>9642c003ef</td>\n",
              "      <td>what interview! leave me alone</td>\n",
              "      <td>leave me alone</td>\n",
              "      <td>negative</td>\n",
              "    </tr>\n",
              "    <tr>\n",
              "      <th>4</th>\n",
              "      <td>358bd9e861</td>\n",
              "      <td>Sons of ****, why couldn`t they put them on t...</td>\n",
              "      <td>Sons of ****,</td>\n",
              "      <td>negative</td>\n",
              "    </tr>\n",
              "    <tr>\n",
              "      <th>...</th>\n",
              "      <td>...</td>\n",
              "      <td>...</td>\n",
              "      <td>...</td>\n",
              "      <td>...</td>\n",
              "    </tr>\n",
              "    <tr>\n",
              "      <th>27476</th>\n",
              "      <td>4eac33d1c0</td>\n",
              "      <td>wish we could come see u on Denver  husband l...</td>\n",
              "      <td>d lost</td>\n",
              "      <td>negative</td>\n",
              "    </tr>\n",
              "    <tr>\n",
              "      <th>27477</th>\n",
              "      <td>4f4c4fc327</td>\n",
              "      <td>I`ve wondered about rake to.  The client has ...</td>\n",
              "      <td>, don`t force</td>\n",
              "      <td>negative</td>\n",
              "    </tr>\n",
              "    <tr>\n",
              "      <th>27478</th>\n",
              "      <td>f67aae2310</td>\n",
              "      <td>Yay good for both of you. Enjoy the break - y...</td>\n",
              "      <td>Yay good for both of you.</td>\n",
              "      <td>positive</td>\n",
              "    </tr>\n",
              "    <tr>\n",
              "      <th>27479</th>\n",
              "      <td>ed167662a5</td>\n",
              "      <td>But it was worth it  ****.</td>\n",
              "      <td>But it was worth it  ****.</td>\n",
              "      <td>positive</td>\n",
              "    </tr>\n",
              "    <tr>\n",
              "      <th>27480</th>\n",
              "      <td>6f7127d9d7</td>\n",
              "      <td>All this flirting going on - The ATG smiles...</td>\n",
              "      <td>All this flirting going on - The ATG smiles. Y...</td>\n",
              "      <td>neutral</td>\n",
              "    </tr>\n",
              "  </tbody>\n",
              "</table>\n",
              "<p>27481 rows × 4 columns</p>\n",
              "</div>"
            ],
            "text/plain": [
              "           textID                                               text  \\\n",
              "0      cb774db0d1                I`d have responded, if I were going   \n",
              "1      549e992a42      Sooo SAD I will miss you here in San Diego!!!   \n",
              "2      088c60f138                          my boss is bullying me...   \n",
              "3      9642c003ef                     what interview! leave me alone   \n",
              "4      358bd9e861   Sons of ****, why couldn`t they put them on t...   \n",
              "...           ...                                                ...   \n",
              "27476  4eac33d1c0   wish we could come see u on Denver  husband l...   \n",
              "27477  4f4c4fc327   I`ve wondered about rake to.  The client has ...   \n",
              "27478  f67aae2310   Yay good for both of you. Enjoy the break - y...   \n",
              "27479  ed167662a5                         But it was worth it  ****.   \n",
              "27480  6f7127d9d7     All this flirting going on - The ATG smiles...   \n",
              "\n",
              "                                           selected_text sentiment  \n",
              "0                    I`d have responded, if I were going   neutral  \n",
              "1                                               Sooo SAD  negative  \n",
              "2                                            bullying me  negative  \n",
              "3                                         leave me alone  negative  \n",
              "4                                          Sons of ****,  negative  \n",
              "...                                                  ...       ...  \n",
              "27476                                             d lost  negative  \n",
              "27477                                      , don`t force  negative  \n",
              "27478                          Yay good for both of you.  positive  \n",
              "27479                         But it was worth it  ****.  positive  \n",
              "27480  All this flirting going on - The ATG smiles. Y...   neutral  \n",
              "\n",
              "[27481 rows x 4 columns]"
            ]
          },
          "execution_count": 8,
          "metadata": {},
          "output_type": "execute_result"
        }
      ],
      "source": [
        "datos"
      ]
    },
    {
      "cell_type": "code",
      "execution_count": 9,
      "metadata": {
        "id": "FxwDVf3bj3j7"
      },
      "outputs": [],
      "source": [
        "X=datos['text']"
      ]
    },
    {
      "cell_type": "code",
      "execution_count": 10,
      "metadata": {
        "id": "rayJchalkFsk"
      },
      "outputs": [],
      "source": [
        "datos['sentiment'] = np.where(datos['sentiment']=='neutral', 1, datos['sentiment'])\n",
        "datos['sentiment'] = np.where(datos['sentiment']=='negative', 2, datos['sentiment'])\n",
        "datos['sentiment'] = np.where(datos['sentiment']=='positive', 3, datos['sentiment'])\n",
        "\n",
        "\n",
        "# Keep the original sentiment if it's not 'neutral'\n",
        "\n",
        "\n",
        "#datos.rename(columns={0:'neutral',1:'negative',2:'positive'}, inplace=True)"
      ]
    },
    {
      "cell_type": "code",
      "execution_count": 11,
      "metadata": {
        "colab": {
          "base_uri": "https://localhost:8080/",
          "height": 562
        },
        "id": "DRvSLq-ekyL-",
        "outputId": "44913246-c250-4868-99c7-71e392f8b1b6"
      },
      "outputs": [
        {
          "data": {
            "text/html": [
              "<div>\n",
              "<style scoped>\n",
              "    .dataframe tbody tr th:only-of-type {\n",
              "        vertical-align: middle;\n",
              "    }\n",
              "\n",
              "    .dataframe tbody tr th {\n",
              "        vertical-align: top;\n",
              "    }\n",
              "\n",
              "    .dataframe thead th {\n",
              "        text-align: right;\n",
              "    }\n",
              "</style>\n",
              "<table border=\"1\" class=\"dataframe\">\n",
              "  <thead>\n",
              "    <tr style=\"text-align: right;\">\n",
              "      <th></th>\n",
              "      <th>textID</th>\n",
              "      <th>text</th>\n",
              "      <th>selected_text</th>\n",
              "      <th>sentiment</th>\n",
              "    </tr>\n",
              "  </thead>\n",
              "  <tbody>\n",
              "    <tr>\n",
              "      <th>0</th>\n",
              "      <td>cb774db0d1</td>\n",
              "      <td>I`d have responded, if I were going</td>\n",
              "      <td>I`d have responded, if I were going</td>\n",
              "      <td>1</td>\n",
              "    </tr>\n",
              "    <tr>\n",
              "      <th>1</th>\n",
              "      <td>549e992a42</td>\n",
              "      <td>Sooo SAD I will miss you here in San Diego!!!</td>\n",
              "      <td>Sooo SAD</td>\n",
              "      <td>2</td>\n",
              "    </tr>\n",
              "    <tr>\n",
              "      <th>2</th>\n",
              "      <td>088c60f138</td>\n",
              "      <td>my boss is bullying me...</td>\n",
              "      <td>bullying me</td>\n",
              "      <td>2</td>\n",
              "    </tr>\n",
              "    <tr>\n",
              "      <th>3</th>\n",
              "      <td>9642c003ef</td>\n",
              "      <td>what interview! leave me alone</td>\n",
              "      <td>leave me alone</td>\n",
              "      <td>2</td>\n",
              "    </tr>\n",
              "    <tr>\n",
              "      <th>4</th>\n",
              "      <td>358bd9e861</td>\n",
              "      <td>Sons of ****, why couldn`t they put them on t...</td>\n",
              "      <td>Sons of ****,</td>\n",
              "      <td>2</td>\n",
              "    </tr>\n",
              "    <tr>\n",
              "      <th>...</th>\n",
              "      <td>...</td>\n",
              "      <td>...</td>\n",
              "      <td>...</td>\n",
              "      <td>...</td>\n",
              "    </tr>\n",
              "    <tr>\n",
              "      <th>27476</th>\n",
              "      <td>4eac33d1c0</td>\n",
              "      <td>wish we could come see u on Denver  husband l...</td>\n",
              "      <td>d lost</td>\n",
              "      <td>2</td>\n",
              "    </tr>\n",
              "    <tr>\n",
              "      <th>27477</th>\n",
              "      <td>4f4c4fc327</td>\n",
              "      <td>I`ve wondered about rake to.  The client has ...</td>\n",
              "      <td>, don`t force</td>\n",
              "      <td>2</td>\n",
              "    </tr>\n",
              "    <tr>\n",
              "      <th>27478</th>\n",
              "      <td>f67aae2310</td>\n",
              "      <td>Yay good for both of you. Enjoy the break - y...</td>\n",
              "      <td>Yay good for both of you.</td>\n",
              "      <td>3</td>\n",
              "    </tr>\n",
              "    <tr>\n",
              "      <th>27479</th>\n",
              "      <td>ed167662a5</td>\n",
              "      <td>But it was worth it  ****.</td>\n",
              "      <td>But it was worth it  ****.</td>\n",
              "      <td>3</td>\n",
              "    </tr>\n",
              "    <tr>\n",
              "      <th>27480</th>\n",
              "      <td>6f7127d9d7</td>\n",
              "      <td>All this flirting going on - The ATG smiles...</td>\n",
              "      <td>All this flirting going on - The ATG smiles. Y...</td>\n",
              "      <td>1</td>\n",
              "    </tr>\n",
              "  </tbody>\n",
              "</table>\n",
              "<p>27481 rows × 4 columns</p>\n",
              "</div>"
            ],
            "text/plain": [
              "           textID                                               text  \\\n",
              "0      cb774db0d1                I`d have responded, if I were going   \n",
              "1      549e992a42      Sooo SAD I will miss you here in San Diego!!!   \n",
              "2      088c60f138                          my boss is bullying me...   \n",
              "3      9642c003ef                     what interview! leave me alone   \n",
              "4      358bd9e861   Sons of ****, why couldn`t they put them on t...   \n",
              "...           ...                                                ...   \n",
              "27476  4eac33d1c0   wish we could come see u on Denver  husband l...   \n",
              "27477  4f4c4fc327   I`ve wondered about rake to.  The client has ...   \n",
              "27478  f67aae2310   Yay good for both of you. Enjoy the break - y...   \n",
              "27479  ed167662a5                         But it was worth it  ****.   \n",
              "27480  6f7127d9d7     All this flirting going on - The ATG smiles...   \n",
              "\n",
              "                                           selected_text sentiment  \n",
              "0                    I`d have responded, if I were going         1  \n",
              "1                                               Sooo SAD         2  \n",
              "2                                            bullying me         2  \n",
              "3                                         leave me alone         2  \n",
              "4                                          Sons of ****,         2  \n",
              "...                                                  ...       ...  \n",
              "27476                                             d lost         2  \n",
              "27477                                      , don`t force         2  \n",
              "27478                          Yay good for both of you.         3  \n",
              "27479                         But it was worth it  ****.         3  \n",
              "27480  All this flirting going on - The ATG smiles. Y...         1  \n",
              "\n",
              "[27481 rows x 4 columns]"
            ]
          },
          "execution_count": 11,
          "metadata": {},
          "output_type": "execute_result"
        }
      ],
      "source": [
        "datos"
      ]
    },
    {
      "cell_type": "code",
      "execution_count": 12,
      "metadata": {
        "id": "SbNFBCeTo3bI"
      },
      "outputs": [
        {
          "name": "stderr",
          "output_type": "stream",
          "text": [
            "/var/folders/kr/066v09l56c9_4l91brw4fwdc0000gn/T/ipykernel_3468/566179174.py:2: FutureWarning: Downcasting object dtype arrays on .fillna, .ffill, .bfill is deprecated and will change in a future version. Call result.infer_objects(copy=False) instead. To opt-in to the future behavior, set `pd.set_option('future.no_silent_downcasting', True)`\n",
            "  datos['sentiment'] = datos['sentiment'].fillna('0')\n"
          ]
        }
      ],
      "source": [
        "datos['text'] = datos['text'].fillna('')  # remplaza los  nullos con vacíos\n",
        "datos['sentiment'] = datos['sentiment'].fillna('0')"
      ]
    },
    {
      "cell_type": "code",
      "execution_count": 13,
      "metadata": {
        "colab": {
          "base_uri": "https://localhost:8080/"
        },
        "id": "Qo_YwTABmaGn",
        "outputId": "fc3ca195-b2fa-4712-fa1c-2b876950f5df"
      },
      "outputs": [
        {
          "data": {
            "text/plain": [
              "sentiment\n",
              "1    11118\n",
              "3     8582\n",
              "2     7781\n",
              "Name: count, dtype: int64"
            ]
          },
          "execution_count": 13,
          "metadata": {},
          "output_type": "execute_result"
        }
      ],
      "source": [
        "datos['sentiment'].value_counts()"
      ]
    },
    {
      "cell_type": "code",
      "execution_count": 14,
      "metadata": {
        "id": "vEv92mAdj2I-"
      },
      "outputs": [],
      "source": [
        "#civde el conjunto de datos en entranemiento(X_train,X_test) y prueba(X_test,Y_test)\n",
        "X_train, X_test, Y_train, Y_test = train_test_split(datos['text'],\n",
        "                                                    datos['sentiment'],\n",
        "                                                    random_state=42)"
      ]
    },
    {
      "cell_type": "code",
      "execution_count": 15,
      "metadata": {
        "colab": {
          "base_uri": "https://localhost:8080/",
          "height": 423
        },
        "id": "mE0FQZkGvI3i",
        "outputId": "15c6f3c2-a1c1-4fe0-f1a2-a300a4292ec1"
      },
      "outputs": [
        {
          "data": {
            "text/html": [
              "<div>\n",
              "<style scoped>\n",
              "    .dataframe tbody tr th:only-of-type {\n",
              "        vertical-align: middle;\n",
              "    }\n",
              "\n",
              "    .dataframe tbody tr th {\n",
              "        vertical-align: top;\n",
              "    }\n",
              "\n",
              "    .dataframe thead th {\n",
              "        text-align: right;\n",
              "    }\n",
              "</style>\n",
              "<table border=\"1\" class=\"dataframe\">\n",
              "  <thead>\n",
              "    <tr style=\"text-align: right;\">\n",
              "      <th></th>\n",
              "      <th>sentiment</th>\n",
              "    </tr>\n",
              "  </thead>\n",
              "  <tbody>\n",
              "    <tr>\n",
              "      <th>0</th>\n",
              "      <td>1</td>\n",
              "    </tr>\n",
              "    <tr>\n",
              "      <th>1</th>\n",
              "      <td>2</td>\n",
              "    </tr>\n",
              "    <tr>\n",
              "      <th>2</th>\n",
              "      <td>2</td>\n",
              "    </tr>\n",
              "    <tr>\n",
              "      <th>3</th>\n",
              "      <td>2</td>\n",
              "    </tr>\n",
              "    <tr>\n",
              "      <th>4</th>\n",
              "      <td>2</td>\n",
              "    </tr>\n",
              "    <tr>\n",
              "      <th>...</th>\n",
              "      <td>...</td>\n",
              "    </tr>\n",
              "    <tr>\n",
              "      <th>27476</th>\n",
              "      <td>2</td>\n",
              "    </tr>\n",
              "    <tr>\n",
              "      <th>27477</th>\n",
              "      <td>2</td>\n",
              "    </tr>\n",
              "    <tr>\n",
              "      <th>27478</th>\n",
              "      <td>3</td>\n",
              "    </tr>\n",
              "    <tr>\n",
              "      <th>27479</th>\n",
              "      <td>3</td>\n",
              "    </tr>\n",
              "    <tr>\n",
              "      <th>27480</th>\n",
              "      <td>1</td>\n",
              "    </tr>\n",
              "  </tbody>\n",
              "</table>\n",
              "<p>27481 rows × 1 columns</p>\n",
              "</div>"
            ],
            "text/plain": [
              "       sentiment\n",
              "0              1\n",
              "1              2\n",
              "2              2\n",
              "3              2\n",
              "4              2\n",
              "...          ...\n",
              "27476          2\n",
              "27477          2\n",
              "27478          3\n",
              "27479          3\n",
              "27480          1\n",
              "\n",
              "[27481 rows x 1 columns]"
            ]
          },
          "execution_count": 15,
          "metadata": {},
          "output_type": "execute_result"
        }
      ],
      "source": [
        "datos[[\"sentiment\"]]\n"
      ]
    },
    {
      "cell_type": "code",
      "execution_count": 16,
      "metadata": {
        "id": "XigWVo-yoPo5"
      },
      "outputs": [],
      "source": [
        "# extrear las características,aquí se convierten los textos a números con vector\n",
        "#para aprender las dimensiones y características de los textos\n",
        "vectorizer = CountVectorizer(ngram_range=(1, 2)).fit(X_train)\n",
        "#se conviente a vectorización numérica, se trabaja con vectores numéricos, no con letras\n",
        "X_train_vectorized = vectorizer.transform(X_train)\n"
      ]
    },
    {
      "cell_type": "code",
      "execution_count": 17,
      "metadata": {
        "id": "8RZ0Pu_NpPOa"
      },
      "outputs": [],
      "source": [
        "#se acomodan los datos para introducirlos\n",
        "#el parámetro alfa es lo que se conoce como hiperparámetro; es decir,\n",
        "#un parámetro que controla la forma del modelo en sí\n",
        "#El suavizado de Laplace es una técnica utilizada para evitar problemas de probabilidad nula en el modelo de Naive Bayes.\n",
        "#puede influir en el rendimiento y la generalización del clasificador.(laplace)\n",
        "model = MultinomialNB(alpha=0.1)\n",
        "#Ocurre la matemática \"Bayes\"\n",
        "Modelo=model.fit(X_train_vectorized, Y_train)"
      ]
    },
    {
      "cell_type": "code",
      "execution_count": 18,
      "metadata": {
        "id": "k1eU6LNOrNsO"
      },
      "outputs": [],
      "source": [
        "#calcula la exactitud del modelo, realizo la predicción, y se convierte los textos a vector(n)\n",
        "predictions = model.predict(vectorizer.transform(X_train))"
      ]
    },
    {
      "cell_type": "code",
      "execution_count": 19,
      "metadata": {
        "colab": {
          "base_uri": "https://localhost:8080/"
        },
        "id": "eKmM4itirSWv",
        "outputId": "ea0820e8-6d85-4000-ab97-cebbffe05d17"
      },
      "outputs": [
        {
          "data": {
            "text/plain": [
              "0.986608442503639"
            ]
          },
          "execution_count": 19,
          "metadata": {},
          "output_type": "execute_result"
        }
      ],
      "source": [
        "from sklearn.metrics import accuracy_score\n",
        "accuracy_score(predictions,Y_train)"
      ]
    },
    {
      "cell_type": "code",
      "execution_count": 20,
      "metadata": {
        "colab": {
          "base_uri": "https://localhost:8080/"
        },
        "id": "6lDeyBFArYpE",
        "outputId": "cd2ffeb8-e999-469c-dd34-bed8d4f05dde"
      },
      "outputs": [
        {
          "name": "stdout",
          "output_type": "stream",
          "text": [
            "              precision    recall  f1-score   support\n",
            "\n",
            "           1       0.99      0.98      0.99      8331\n",
            "           2       0.98      0.99      0.99      5824\n",
            "           3       0.98      0.99      0.99      6455\n",
            "\n",
            "    accuracy                           0.99     20610\n",
            "   macro avg       0.99      0.99      0.99     20610\n",
            "weighted avg       0.99      0.99      0.99     20610\n",
            "\n"
          ]
        }
      ],
      "source": [
        "from sklearn.metrics import classification_report\n",
        "print(classification_report(Y_train,predictions))"
      ]
    },
    {
      "cell_type": "code",
      "execution_count": 21,
      "metadata": {
        "colab": {
          "base_uri": "https://localhost:8080/"
        },
        "id": "GtGYBUgdrbBx",
        "outputId": "218dfac4-04ed-4208-83bf-faf900b069ee"
      },
      "outputs": [
        {
          "data": {
            "text/plain": [
              "array([[8134,   24,   26],\n",
              "       [  82, 5791,   20],\n",
              "       [ 115,    9, 6409]])"
            ]
          },
          "execution_count": 21,
          "metadata": {},
          "output_type": "execute_result"
        }
      ],
      "source": [
        "#cómo se comporta de acuerdo a la matriz de confusión\n",
        "#la diagonal principal indica los aciertos, los datos equivocados (3,11)\n",
        "confusion_matrix(predictions, Y_train)"
      ]
    },
    {
      "cell_type": "code",
      "execution_count": 22,
      "metadata": {
        "colab": {
          "base_uri": "https://localhost:8080/"
        },
        "id": "WVEt1JbfrpQd",
        "outputId": "73feef28-9519-484a-f275-9bf57e226972"
      },
      "outputs": [
        {
          "data": {
            "text/plain": [
              "array([3, 3, 3])"
            ]
          },
          "execution_count": 22,
          "metadata": {},
          "output_type": "execute_result"
        }
      ],
      "source": [
        "# auí realizamos una prueba con texto nuevo\n",
        "model.predict(vectorizer.transform(\n",
        "    [\n",
        "        \"Thank you, ABC. Can you also share your LinkedIn profile? As you are a good at programming at pyhthon, would be willing to see your personal/college projects.\",\n",
        "        \"Hi y’all, We have a Job Openings in the positions of software engineer, IT officer at ABC Company.Kindly, send us your resume and the cover letter as soon as possible if you think you are an eligible candidate and meet the criteria.\",\n",
        "        \"Dear ABC, Congratulations! You have been selected as a SOftware Developer at XYZ Company. We were really happy to see your enthusiasm for this vision and mission. We are impressed with your background and we think you would make an excellent addition to the team.\",\n",
        "    ]))"
      ]
    },
    {
      "cell_type": "code",
      "execution_count": 23,
      "metadata": {
        "colab": {
          "base_uri": "https://localhost:8080/"
        },
        "id": "m3BTW2V-r0WT",
        "outputId": "a8ca8b71-888e-4f07-a31a-9298ce7f32c9"
      },
      "outputs": [
        {
          "data": {
            "text/plain": [
              "array([3, 3, 2])"
            ]
          },
          "execution_count": 23,
          "metadata": {},
          "output_type": "execute_result"
        }
      ],
      "source": [
        "#texto de ejemplo\n",
        "model.predict(vectorizer.transform(\n",
        "    [\n",
        "        \"congratulations, you became today's lucky winner\",\n",
        "        \"1-month unlimited calls offer Activate now\",\n",
        "        \"Ram wants your phone number\",\n",
        "\n",
        "    ]))"
      ]
    },
    {
      "cell_type": "code",
      "execution_count": 24,
      "metadata": {
        "id": "dUWkukUzsn4q"
      },
      "outputs": [],
      "source": [
        "#calcula la exactitud del modelo, realizo la predicción, y se convierte los textos a vector(n)\n",
        "predictionsPrueba = model.predict(vectorizer.transform(X_test))"
      ]
    },
    {
      "cell_type": "code",
      "execution_count": 25,
      "metadata": {
        "colab": {
          "base_uri": "https://localhost:8080/"
        },
        "id": "dABIMOpos2vo",
        "outputId": "fdd80cc1-5d34-4b4a-e75b-3f9aac6e32b4"
      },
      "outputs": [
        {
          "data": {
            "text/plain": [
              "0.5983117450152816"
            ]
          },
          "execution_count": 25,
          "metadata": {},
          "output_type": "execute_result"
        }
      ],
      "source": [
        "from sklearn.metrics import accuracy_score\n",
        "accuracy_score(predictionsPrueba,Y_test)"
      ]
    },
    {
      "cell_type": "code",
      "execution_count": 26,
      "metadata": {
        "colab": {
          "base_uri": "https://localhost:8080/"
        },
        "id": "IsoIcbr2tGAS",
        "outputId": "e9f24d92-2e92-4c56-bc5c-980a0db3ac8e"
      },
      "outputs": [
        {
          "data": {
            "text/plain": [
              "array([[1533,  615,  582],\n",
              "       [ 640, 1191,  158],\n",
              "       [ 614,  151, 1387]])"
            ]
          },
          "execution_count": 26,
          "metadata": {},
          "output_type": "execute_result"
        }
      ],
      "source": [
        "#cómo se comporta de acuerdo a la matriz de confusión\n",
        "#la diagonal principal indica los aciertos, los datos equivocados (3,11)\n",
        "confusion_matrix(predictionsPrueba, Y_test)"
      ]
    },
    {
      "cell_type": "code",
      "execution_count": 27,
      "metadata": {
        "colab": {
          "base_uri": "https://localhost:8080/"
        },
        "id": "yjhWwVyrs-kr",
        "outputId": "262d8205-0473-4ce7-f172-b7ea38bcec51"
      },
      "outputs": [
        {
          "name": "stdout",
          "output_type": "stream",
          "text": [
            "              precision    recall  f1-score   support\n",
            "\n",
            "           1       0.56      0.55      0.56      2787\n",
            "           2       0.60      0.61      0.60      1957\n",
            "           3       0.64      0.65      0.65      2127\n",
            "\n",
            "    accuracy                           0.60      6871\n",
            "   macro avg       0.60      0.60      0.60      6871\n",
            "weighted avg       0.60      0.60      0.60      6871\n",
            "\n"
          ]
        }
      ],
      "source": [
        "from sklearn.metrics import classification_report\n",
        "print(classification_report(Y_test,predictionsPrueba))"
      ]
    }
  ],
  "metadata": {
    "colab": {
      "provenance": []
    },
    "kernelspec": {
      "display_name": "Python 3",
      "name": "python3"
    },
    "language_info": {
      "codemirror_mode": {
        "name": "ipython",
        "version": 3
      },
      "file_extension": ".py",
      "mimetype": "text/x-python",
      "name": "python",
      "nbconvert_exporter": "python",
      "pygments_lexer": "ipython3",
      "version": "3.12.4"
    }
  },
  "nbformat": 4,
  "nbformat_minor": 0
}
