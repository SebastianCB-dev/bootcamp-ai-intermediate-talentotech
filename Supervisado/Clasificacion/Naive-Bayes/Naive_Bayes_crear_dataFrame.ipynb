{
  "cells": [
    {
      "cell_type": "code",
      "execution_count": 12,
      "metadata": {},
      "outputs": [
        {
          "name": "stdout",
          "output_type": "stream",
          "text": [
            "Requirement already satisfied: pandas==2.2.2 in /Users/sebastiancb/anaconda3/envs/env-talentotech-bootcamp/lib/python3.12/site-packages (from -r requirements.txt (line 1)) (2.2.2)\n",
            "Requirement already satisfied: scikit-learn==1.5.0 in /Users/sebastiancb/anaconda3/envs/env-talentotech-bootcamp/lib/python3.12/site-packages (from -r requirements.txt (line 2)) (1.5.0)\n",
            "Requirement already satisfied: numpy>=1.26.0 in /Users/sebastiancb/anaconda3/envs/env-talentotech-bootcamp/lib/python3.12/site-packages (from pandas==2.2.2->-r requirements.txt (line 1)) (2.0.0)\n",
            "Requirement already satisfied: python-dateutil>=2.8.2 in /Users/sebastiancb/anaconda3/envs/env-talentotech-bootcamp/lib/python3.12/site-packages (from pandas==2.2.2->-r requirements.txt (line 1)) (2.9.0)\n",
            "Requirement already satisfied: pytz>=2020.1 in /Users/sebastiancb/anaconda3/envs/env-talentotech-bootcamp/lib/python3.12/site-packages (from pandas==2.2.2->-r requirements.txt (line 1)) (2024.1)\n",
            "Requirement already satisfied: tzdata>=2022.7 in /Users/sebastiancb/anaconda3/envs/env-talentotech-bootcamp/lib/python3.12/site-packages (from pandas==2.2.2->-r requirements.txt (line 1)) (2024.1)\n",
            "Requirement already satisfied: scipy>=1.6.0 in /Users/sebastiancb/anaconda3/envs/env-talentotech-bootcamp/lib/python3.12/site-packages (from scikit-learn==1.5.0->-r requirements.txt (line 2)) (1.14.0)\n",
            "Requirement already satisfied: joblib>=1.2.0 in /Users/sebastiancb/anaconda3/envs/env-talentotech-bootcamp/lib/python3.12/site-packages (from scikit-learn==1.5.0->-r requirements.txt (line 2)) (1.4.2)\n",
            "Requirement already satisfied: threadpoolctl>=3.1.0 in /Users/sebastiancb/anaconda3/envs/env-talentotech-bootcamp/lib/python3.12/site-packages (from scikit-learn==1.5.0->-r requirements.txt (line 2)) (3.5.0)\n",
            "Requirement already satisfied: six>=1.5 in /Users/sebastiancb/anaconda3/envs/env-talentotech-bootcamp/lib/python3.12/site-packages (from python-dateutil>=2.8.2->pandas==2.2.2->-r requirements.txt (line 1)) (1.16.0)\n",
            "Note: you may need to restart the kernel to use updated packages.\n"
          ]
        }
      ],
      "source": [
        "# Instalación librerías\n",
        "%pip install -r requirements.txt"
      ]
    },
    {
      "cell_type": "code",
      "execution_count": 13,
      "metadata": {
        "id": "6FV5XVJrTsak"
      },
      "outputs": [],
      "source": [
        "#se importan las biblioteca\n",
        "import pandas as pd"
      ]
    },
    {
      "cell_type": "code",
      "execution_count": 14,
      "metadata": {
        "colab": {
          "base_uri": "https://localhost:8080/",
          "height": 300
        },
        "id": "M_V2kiSqT5BD",
        "outputId": "0a129d64-1cf0-46ce-88a3-d18230a8ee76"
      },
      "outputs": [
        {
          "data": {
            "text/html": [
              "<div>\n",
              "<style scoped>\n",
              "    .dataframe tbody tr th:only-of-type {\n",
              "        vertical-align: middle;\n",
              "    }\n",
              "\n",
              "    .dataframe tbody tr th {\n",
              "        vertical-align: top;\n",
              "    }\n",
              "\n",
              "    .dataframe thead th {\n",
              "        text-align: right;\n",
              "    }\n",
              "</style>\n",
              "<table border=\"1\" class=\"dataframe\">\n",
              "  <thead>\n",
              "    <tr style=\"text-align: right;\">\n",
              "      <th></th>\n",
              "      <th>sexo</th>\n",
              "      <th>altura</th>\n",
              "      <th>peso</th>\n",
              "      <th>talla_pie</th>\n",
              "    </tr>\n",
              "  </thead>\n",
              "  <tbody>\n",
              "    <tr>\n",
              "      <th>0</th>\n",
              "      <td>hombre</td>\n",
              "      <td>6.00</td>\n",
              "      <td>180</td>\n",
              "      <td>12</td>\n",
              "    </tr>\n",
              "    <tr>\n",
              "      <th>1</th>\n",
              "      <td>hombre</td>\n",
              "      <td>5.92</td>\n",
              "      <td>190</td>\n",
              "      <td>11</td>\n",
              "    </tr>\n",
              "    <tr>\n",
              "      <th>2</th>\n",
              "      <td>hombre</td>\n",
              "      <td>5.58</td>\n",
              "      <td>170</td>\n",
              "      <td>12</td>\n",
              "    </tr>\n",
              "    <tr>\n",
              "      <th>3</th>\n",
              "      <td>hombre</td>\n",
              "      <td>5.92</td>\n",
              "      <td>165</td>\n",
              "      <td>10</td>\n",
              "    </tr>\n",
              "    <tr>\n",
              "      <th>4</th>\n",
              "      <td>mujer</td>\n",
              "      <td>5.00</td>\n",
              "      <td>100</td>\n",
              "      <td>6</td>\n",
              "    </tr>\n",
              "    <tr>\n",
              "      <th>5</th>\n",
              "      <td>mujer</td>\n",
              "      <td>5.50</td>\n",
              "      <td>150</td>\n",
              "      <td>8</td>\n",
              "    </tr>\n",
              "    <tr>\n",
              "      <th>6</th>\n",
              "      <td>mujer</td>\n",
              "      <td>5.42</td>\n",
              "      <td>130</td>\n",
              "      <td>7</td>\n",
              "    </tr>\n",
              "    <tr>\n",
              "      <th>7</th>\n",
              "      <td>mujer</td>\n",
              "      <td>5.75</td>\n",
              "      <td>150</td>\n",
              "      <td>9</td>\n",
              "    </tr>\n",
              "  </tbody>\n",
              "</table>\n",
              "</div>"
            ],
            "text/plain": [
              "     sexo  altura  peso  talla_pie\n",
              "0  hombre    6.00   180         12\n",
              "1  hombre    5.92   190         11\n",
              "2  hombre    5.58   170         12\n",
              "3  hombre    5.92   165         10\n",
              "4   mujer    5.00   100          6\n",
              "5   mujer    5.50   150          8\n",
              "6   mujer    5.42   130          7\n",
              "7   mujer    5.75   150          9"
            ]
          },
          "execution_count": 14,
          "metadata": {},
          "output_type": "execute_result"
        }
      ],
      "source": [
        "#puede armar un DataFrame\n",
        "df = pd.DataFrame({\n",
        "    'sexo':['hombre','hombre','hombre','hombre','mujer','mujer', 'mujer','mujer'],\n",
        "    'altura':[6.0, 5.92,5.58, 5.92, 5, 5.5, 5.42, 5.75],\n",
        "    'peso':[180,190,170,165,100,150,130,150],\n",
        "    'talla_pie':[12,11,12,10,6,8,7,9]\n",
        "})\n",
        "df"
      ]
    },
    {
      "cell_type": "code",
      "execution_count": 15,
      "metadata": {
        "id": "94EOBYchVQM5"
      },
      "outputs": [],
      "source": [
        "X = df[['altura','peso','talla_pie']].values\n",
        "y = df['sexo'].values"
      ]
    },
    {
      "cell_type": "code",
      "execution_count": 16,
      "metadata": {
        "colab": {
          "base_uri": "https://localhost:8080/"
        },
        "id": "wFmp14DBVZwv",
        "outputId": "976d880d-17c6-4308-8b40-178b64dcc1bd"
      },
      "outputs": [
        {
          "data": {
            "text/plain": [
              "(8, 3)"
            ]
          },
          "execution_count": 16,
          "metadata": {},
          "output_type": "execute_result"
        }
      ],
      "source": [
        "X.shape"
      ]
    },
    {
      "cell_type": "code",
      "execution_count": 17,
      "metadata": {
        "colab": {
          "base_uri": "https://localhost:8080/"
        },
        "id": "T0u7zzCPVbQD",
        "outputId": "b2135cf4-00a5-4203-89ca-af288b107053"
      },
      "outputs": [
        {
          "data": {
            "text/plain": [
              "(8,)"
            ]
          },
          "execution_count": 17,
          "metadata": {},
          "output_type": "execute_result"
        }
      ],
      "source": [
        "y.shape"
      ]
    },
    {
      "cell_type": "code",
      "execution_count": 18,
      "metadata": {
        "colab": {
          "base_uri": "https://localhost:8080/",
          "height": 89
        },
        "id": "GuhKvmXyVDSF",
        "outputId": "39ae24f4-ee29-4bf8-c26e-20ada7b36591"
      },
      "outputs": [
        {
          "data": {
            "text/html": [
              "<div>\n",
              "<style scoped>\n",
              "    .dataframe tbody tr th:only-of-type {\n",
              "        vertical-align: middle;\n",
              "    }\n",
              "\n",
              "    .dataframe tbody tr th {\n",
              "        vertical-align: top;\n",
              "    }\n",
              "\n",
              "    .dataframe thead th {\n",
              "        text-align: right;\n",
              "    }\n",
              "</style>\n",
              "<table border=\"1\" class=\"dataframe\">\n",
              "  <thead>\n",
              "    <tr style=\"text-align: right;\">\n",
              "      <th></th>\n",
              "      <th>sexo</th>\n",
              "      <th>altura</th>\n",
              "      <th>peso</th>\n",
              "      <th>talla_pie</th>\n",
              "    </tr>\n",
              "  </thead>\n",
              "  <tbody>\n",
              "    <tr>\n",
              "      <th>0</th>\n",
              "      <td>?</td>\n",
              "      <td>6.0</td>\n",
              "      <td>130</td>\n",
              "      <td>8</td>\n",
              "    </tr>\n",
              "  </tbody>\n",
              "</table>\n",
              "</div>"
            ],
            "text/plain": [
              "  sexo  altura  peso  talla_pie\n",
              "0    ?     6.0   130          8"
            ]
          },
          "execution_count": 18,
          "metadata": {},
          "output_type": "execute_result"
        }
      ],
      "source": [
        "#se va a averguar\n",
        "df_test = pd.DataFrame({\n",
        "    'sexo':['?'],\n",
        "    'altura':[6.0],\n",
        "    'peso':[130],\n",
        "    'talla_pie':[8]\n",
        "})\n",
        "df_test"
      ]
    },
    {
      "cell_type": "code",
      "execution_count": 19,
      "metadata": {
        "id": "IDxmlV_lV_iY"
      },
      "outputs": [],
      "source": [
        "X_test = df_test[['altura','peso','talla_pie']].values"
      ]
    },
    {
      "cell_type": "code",
      "execution_count": 20,
      "metadata": {
        "colab": {
          "base_uri": "https://localhost:8080/"
        },
        "id": "pgUpwXCZWGn6",
        "outputId": "93229b54-ffc3-49f7-e589-d3226639f731"
      },
      "outputs": [
        {
          "data": {
            "text/plain": [
              "(1, 3)"
            ]
          },
          "execution_count": 20,
          "metadata": {},
          "output_type": "execute_result"
        }
      ],
      "source": [
        "X_test.shape"
      ]
    },
    {
      "cell_type": "code",
      "execution_count": 21,
      "metadata": {
        "id": "CKLrqzCSVj0x"
      },
      "outputs": [],
      "source": [
        "#se llama al modelo gaussiano\n",
        "from sklearn.naive_bayes import GaussianNB\n",
        "gnb = GaussianNB()\n",
        "#se entrena\n",
        "gnb.fit(X, y)\n",
        "#se realiza la predicción con los datos\n",
        "y_pred = gnb.predict(X_test).tolist()"
      ]
    },
    {
      "cell_type": "code",
      "execution_count": 22,
      "metadata": {
        "colab": {
          "base_uri": "https://localhost:8080/"
        },
        "id": "yAgyFh9HWZgW",
        "outputId": "5f43cec7-c6e7-47e4-a155-93d7536ffe4f"
      },
      "outputs": [
        {
          "name": "stdout",
          "output_type": "stream",
          "text": [
            "['mujer']\n"
          ]
        }
      ],
      "source": [
        "print(y_pred)"
      ]
    }
  ],
  "metadata": {
    "colab": {
      "provenance": []
    },
    "kernelspec": {
      "display_name": "Python 3",
      "name": "python3"
    },
    "language_info": {
      "codemirror_mode": {
        "name": "ipython",
        "version": 3
      },
      "file_extension": ".py",
      "mimetype": "text/x-python",
      "name": "python",
      "nbconvert_exporter": "python",
      "pygments_lexer": "ipython3",
      "version": "3.12.4"
    }
  },
  "nbformat": 4,
  "nbformat_minor": 0
}
